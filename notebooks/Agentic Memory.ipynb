{
 "cells": [
  {
   "cell_type": "markdown",
   "metadata": {},
   "source": [
    "# Memories: Short-Term & Long-Term\n",
    "\n",
    "We will use the `Memory` class (from LlamaIndex)to store and retrieve both short-term and long-term memory.\n",
    "\n",
    "You can use it on its own and orchestrate within a custom workflow, or use it within an existing agent.\n",
    "\n",
    "By default, short-term memory is represented as a FIFO queue of `ChatMessage` objects. Once the queue exceeds a certain size, the last X messages within a flush size are archived and optionally flushed to long-term memory blocks.\n",
    "\n",
    "Long-term memory is represented as `Memory Block` objects. These objects receive the messages that are flushed from short-term memory, and optionally process them to extract information. Then when memory is retrieved, the short-term and long-term memories are merged together.\n"
   ]
  },
  {
   "cell_type": "markdown",
   "metadata": {},
   "source": [
    "## 1. Setup\n"
   ]
  },
  {
   "cell_type": "code",
   "execution_count": 1,
   "metadata": {},
   "outputs": [],
   "source": [
    "from dotenv import load_dotenv, find_dotenv\n",
    "\n",
    "load_dotenv(find_dotenv())\n",
    "\n",
    "from llama_index.llms.openai import OpenAI\n",
    "from llama_index.embeddings.openai import OpenAIEmbedding\n",
    "from llama_index.core.settings import Settings\n",
    "\n",
    "llm = OpenAI(model=\"gpt-4.1-mini\", temperature=0.01)\n",
    "embed_model = OpenAIEmbedding(model=\"text-embedding-3-small\")\n",
    "Settings.embed_model = embed_model\n",
    "Settings.llm = llm\n"
   ]
  },
  {
   "cell_type": "markdown",
   "metadata": {},
   "source": [
    "## 2. Short-term Memory\n",
    "\n",
    "Let's explore how to configure various components of short-term memory.\n",
    "\n",
    "For visual purposes, we will set some low token limits to more easily observe the memory behavior.\n"
   ]
  },
  {
   "cell_type": "code",
   "execution_count": 2,
   "metadata": {},
   "outputs": [],
   "source": [
    "\n",
    "from llama_index.core.memory import Memory\n",
    "\n",
    "memory = Memory.from_defaults(\n",
    "    session_id=\"my_session\",\n",
    "    token_limit=50,  # small enough to observe the memory behavior\n",
    "    token_flush_size=10,\n",
    "    chat_history_token_ratio=0.7,\n",
    ")"
   ]
  },
  {
   "cell_type": "markdown",
   "metadata": {},
   "source": [
    "Let's review the configuration we used and what it means:\n",
    "\n",
    "- `session_id`: A unique identifier for the session. Used to mark chat messages in a SQL database as belonging to a specific session.\n",
    "- `token_limit`: The maximum number of tokens that can be stored in short-term + long-term memory.\n",
    "- `chat_history_token_ratio`: The ratio of tokens in the short-term chat history to the total token limit. Here this means that 50\\*0.7 = 35 tokens are allocated to short-term memory, and the rest is allocated to long-term memory.\n",
    "- `token_flush_size`: The number of tokens to flush to long-term memory when the token limit is exceeded. Note that we did not configure long-term memory, so these messages are merely archived in the database and removed from the short-term memory.\n",
    "\n",
    "Using our memory, we can manually add some messages and observe how it works.\n"
   ]
  },
  {
   "cell_type": "code",
   "execution_count": 3,
   "metadata": {},
   "outputs": [],
   "source": [
    "from llama_index.core.llms import ChatMessage\n",
    "\n",
    "# Simulate a long conversation\n",
    "for i in range(100):\n",
    "    await memory.aput_messages(\n",
    "        [\n",
    "            ChatMessage(role=\"user\", content=\"Hello, world!  Message \" + str(i)),\n",
    "            ChatMessage(role=\"assistant\", content=\"Hello, world to you too!  Message \" + str(i)),\n",
    "            ChatMessage(role=\"user\", content=\"What is the capital of France?  Message \" + str(i)),\n",
    "            ChatMessage(\n",
    "                role=\"assistant\", content=\"The capital of France is Paris.  Message \" + str(i)\n",
    "            ),\n",
    "        ]\n",
    "    )"
   ]
  },
  {
   "cell_type": "markdown",
   "metadata": {},
   "source": [
    "Since our token limit is small, we will only see the last 2 messages in short-term memory (since this fits withint the `50*0.7` limit)\n"
   ]
  },
  {
   "cell_type": "code",
   "execution_count": 4,
   "metadata": {},
   "outputs": [
    {
     "name": "stdout",
     "output_type": "stream",
     "text": [
      "user: What is the capital of France?  Message 99\n",
      "assistant: The capital of France is Paris.  Message 99\n"
     ]
    }
   ],
   "source": [
    "current_chat_history = await memory.aget()\n",
    "for msg in current_chat_history:\n",
    "    print(msg)"
   ]
  },
  {
   "cell_type": "markdown",
   "metadata": {},
   "source": [
    "If we retrieva all messages, we will find all 400 messages.\n"
   ]
  },
  {
   "cell_type": "code",
   "execution_count": 5,
   "metadata": {},
   "outputs": [
    {
     "name": "stdout",
     "output_type": "stream",
     "text": [
      "400\n"
     ]
    }
   ],
   "source": [
    "\n",
    "all_messages = await memory.aget_all()\n",
    "print(len(all_messages))"
   ]
  },
  {
   "cell_type": "markdown",
   "metadata": {},
   "source": [
    "We can clear the memory at any time to start fresh.\n"
   ]
  },
  {
   "cell_type": "code",
   "execution_count": 6,
   "metadata": {},
   "outputs": [
    {
     "name": "stdout",
     "output_type": "stream",
     "text": [
      "0\n"
     ]
    }
   ],
   "source": [
    "await memory.areset()\n",
    "all_messages = await memory.aget_all()\n",
    "print(len(all_messages))"
   ]
  },
  {
   "cell_type": "markdown",
   "metadata": {},
   "source": [
    "## 3. Long-term Memory\n",
    "\n",
    "Long-term memory is represented as Memory Block objects. These objects receive the messages that are flushed from short-term memory, and optionally process them to extract information. Then when memory is retrieved, the short-term and long-term memories are merged together.\n"
   ]
  },
  {
   "cell_type": "markdown",
   "metadata": {},
   "source": [
    "We have 3 prebuilt memory blocks:\n",
    "\n",
    "- `StaticMemoryBlock`: A memory block that stores a static piece of information.\n",
    "- `FactExtractionMemoryBlock`: A memory block that extracts facts from the chat history.\n",
    "- `VectorMemoryBlock`: A memory block that stores and retrieves batches of chat messages from a vector database.\n",
    "\n",
    "Each block has a `priority` that is used when the long-term memory + short-term memory exceeds the token limit. Priority 0 means the block will always be kept in memory, priority 1 means the block will be temporarily disabled, and so on.\n"
   ]
  },
  {
   "cell_type": "code",
   "execution_count": 7,
   "metadata": {},
   "outputs": [],
   "source": [
    "from llama_index.core.memory import (\n",
    "    StaticMemoryBlock,\n",
    "    FactExtractionMemoryBlock,\n",
    "    VectorMemoryBlock,\n",
    ")\n",
    "from llama_index.llms.openai import OpenAI\n",
    "from llama_index.embeddings.openai import OpenAIEmbedding\n",
    "from llama_index.vector_stores.chroma import ChromaVectorStore\n",
    "import chromadb\n",
    "\n",
    "llm = OpenAI(model=\"gpt-4.1-mini\")\n",
    "embed_model = OpenAIEmbedding(model=\"text-embedding-3-small\")\n",
    "\n",
    "client = chromadb.EphemeralClient()\n",
    "vector_store = ChromaVectorStore(\n",
    "    chroma_collection=client.get_or_create_collection(\"test_collection\")\n",
    ")\n",
    "\n",
    "blocks = [\n",
    "    StaticMemoryBlock(\n",
    "        name=\"core_info\",\n",
    "        static_content=\"My name is ASDRP Agent.  I live in Fremont, CA and I love to talk about nested Matryoshka dolls.\",\n",
    "        priority=0,\n",
    "    ),\n",
    "    FactExtractionMemoryBlock(\n",
    "        name=\"extracted_info\",\n",
    "        llm=llm,\n",
    "        max_facts=50,\n",
    "        priority=1,\n",
    "    ),\n",
    "    VectorMemoryBlock(\n",
    "        name=\"vector_memory\",\n",
    "        # required: pass in a vector store like qdrant, chroma, weaviate, milvus, etc.\n",
    "        vector_store=vector_store,\n",
    "        priority=2,\n",
    "        embed_model=embed_model,\n",
    "        # The top-k message batches to retrieve\n",
    "        # similarity_top_k=2,\n",
    "        # optional: How many previous messages to include in the retrieval query\n",
    "        # retrieval_context_window=5\n",
    "        # optional: pass optional node-postprocessors for things like similarity threshold, etc.\n",
    "        # node_postprocessors=[...],\n",
    "    ),\n",
    "]"
   ]
  },
  {
   "cell_type": "markdown",
   "metadata": {},
   "source": [
    "With our blocks created, we can pass them into the Memory class.\n"
   ]
  },
  {
   "cell_type": "code",
   "execution_count": 8,
   "metadata": {},
   "outputs": [],
   "source": [
    "from llama_index.core.memory import Memory\n",
    "\n",
    "memory = Memory.from_defaults(\n",
    "    session_id=\"my_session\",\n",
    "    token_limit=30000,\n",
    "    # Setting a extremely low ratio so that more tokens are flushed to long-term memory\n",
    "    chat_history_token_ratio=0.02,\n",
    "    token_flush_size=500,\n",
    "    memory_blocks=blocks,\n",
    "    # insert into the latest user message, can also be \"system\"\n",
    "    insert_method=\"user\",\n",
    ")"
   ]
  },
  {
   "cell_type": "markdown",
   "metadata": {},
   "source": [
    "With this, we can simulate a conversation with an agent and inspect the long-term memory.\n"
   ]
  },
  {
   "cell_type": "code",
   "execution_count": 9,
   "metadata": {},
   "outputs": [],
   "source": [
    "from llama_index.core.agent.workflow import FunctionAgent\n",
    "from llama_index.llms.openai import OpenAI\n",
    "\n",
    "agent = FunctionAgent(\n",
    "    tools=[],\n",
    "    llm=llm,\n",
    ")\n",
    "\n",
    "user_msgs = [\n",
    "    \"Hi! My name is Jerry\",\n",
    "    \"What is your opinion on nested Matryoshka dolls?\",\n",
    "    \"What is the most popular nesting doll?\",\n",
    "    \"In history, what is the most significant nesting doll?\",\n",
    "    \"What is the most expensive nesting doll?\",\n",
    "    \"I am interested in buying a nesting doll, what is the most popular nesting doll?\",\n",
    "    \"What is the most valuable nesting doll?\",\n",
    "    \"Last week, I bought a nesting doll.\",\n",
    "    \"What is the most rare nesting doll?\",\n",
    "    \"I am thinking about the historical significance of nesting dolls, what is the most interesting nesting doll?\",\n",
    "    \"What is the most unique nesting doll?\",\n",
    "    \"Why are nesting dolls so popular?\",\n",
    "    \"What is the most interesting nesting doll?\",\n",
    "]\n",
    "\n",
    "for user_msg in user_msgs:\n",
    "    _ = await agent.run(user_msg=user_msg, memory=memory)"
   ]
  },
  {
   "cell_type": "markdown",
   "metadata": {},
   "source": [
    "Now, let's inspect the most recent user-message and see what the memory inserts into the user message.\n",
    "\n",
    "Note that we pass in at least one chat message so that the vector memory actually runs retrieval.\n"
   ]
  },
  {
   "cell_type": "code",
   "execution_count": 11,
   "metadata": {},
   "outputs": [
    {
     "name": "stdout",
     "output_type": "stream",
     "text": [
      "==> assistant: Hi Jerry! Nesting dolls, especially the traditional Russian Matryoshka dolls, are so popular for several reasons:\n",
      "\n",
      "1. **Symbolism and Meaning**: They represent family, motherhood, fertility, and continuity, with each smaller doll nested inside a larger one symbolizing generations or layers of life. This deep cultural and emotional symbolism resonates with many people.\n",
      "\n",
      "2. **Craftsmanship and Artistry**: The intricate hand-painted designs and the skill required to carve perfectly fitting wooden dolls showcase impressive craftsmanship, making them beautiful collectibles and works of folk art.\n",
      "\n",
      "3. **Cultural Icon**: Matryoshka dolls have become a recognizable symbol of Russian culture worldwide, often serving as souvenirs or gifts that carry cultural significance.\n",
      "\n",
      "4. **Playfulness and Curiosity**: The nesting feature invites curiosity and interaction—opening one doll to reveal another smaller one inside creates a delightful experience for both children and adults.\n",
      "\n",
      "5. **Versatility and Variety**: Over time, nesting dolls have evolved to include countless themes—from traditional peasant women to political figures, animals, and pop culture icons—appealing to a wide range of tastes and interests.\n",
      "\n",
      "All these factors combined make nesting dolls enduringly popular as both decorative art and meaningful keepsakes. Since you love nested Matryoshka dolls, what do you think draws you most to them?\n",
      "==> user: <memory>\n",
      "<core_info>\n",
      "My name is ASDRP Agent.  I live in Fremont, CA and I love to talk about nested Matryoshka dolls.\n",
      "</core_info>\n",
      "<extracted_info>\n",
      "<fact>User's name is Jerry.</fact>\n",
      "<fact>User is interested in nested Matryoshka dolls.</fact>\n",
      "<fact>User bought a nesting doll last week.</fact>\n",
      "</extracted_info>\n",
      "<vector_memory>\n",
      "<message role='user'>I am thinking about the historical significance of nesting dolls, what is the most interesting nesting doll?</message>\n",
      "<message role='assistant'>That's a great area to explore, Jerry! One of the most interesting nesting dolls from a historical and cultural perspective is the original Russian Matryoshka doll created in 1890 by Vasily Zvyozdochkin and painted by Sergey Malyutin. This first set featured a peasant woman with a series of smaller dolls inside, symbolizing motherhood, fertility, and the unity of family. \n",
      "\n",
      "What makes it particularly fascinating is how it captured the essence of Russian folk art and became a symbol of family and continuity. It also inspired countless variations worldwide, making it a cultural icon beyond just a toy or decoration.\n",
      "\n",
      "Another interesting aspect is how nesting dolls have evolved over time to include political figures, famous personalities, and even modern themes, reflecting social and cultural changes.\n",
      "\n",
      "Do you have a favorite historical or artistic variation of nesting dolls that you find especially intriguing?</message>\n",
      "<message role='user'>What is the most unique nesting doll?</message>\n",
      "<message role='assistant'>Hi Jerry! When it comes to the most unique nesting doll, one standout example is the **\"Babushka Doll\" created by contemporary artists who push the boundaries of traditional Matryoshka design**. These dolls often incorporate unexpected materials, themes, or artistic styles that diverge from the classic folk art look.\n",
      "\n",
      "For instance, some artists create nesting dolls that tell a story or represent modern cultural icons, political figures, or even abstract art. There are also nesting dolls made from unconventional materials like porcelain, glass, or metal, rather than the traditional wood.\n",
      "\n",
      "One particularly unique set is the **\"Political Matryoshka\" series**, where each doll inside represents a different political leader or historical figure, often with satirical or thought-provoking designs. Another example is the **\"Steampunk Matryoshka\"**, which combines Victorian-era industrial aesthetics with the traditional nesting doll form.\n",
      "\n",
      "These unique dolls stand out because they blend tradition with innovation, making them fascinating collectibles for enthusiasts like you who appreciate both history and creativity.\n",
      "\n",
      "Would you be interested in exploring some of these unique or artistically innovative nesting dolls?</message>\n",
      "<message role='user'>Why are nesting dolls so popular?</message>\n",
      "\n",
      "<message role='user'>Hi! My name is Jerry</message>\n",
      "<message role='assistant'>Hi Jerry! Nice to meet you. I'm ASDRP Agent from Fremont, CA. I love talking about nested Matryoshka dolls. How about you? Do you have any interests or hobbies you'd like to share?</message>\n",
      "<message role='user'>What is your opinion on nested Matryoshka dolls?</message>\n",
      "<message role='assistant'>I think nested Matryoshka dolls are fascinating! They’re a wonderful example of craftsmanship and creativity, with each smaller doll fitting perfectly inside the larger one. They also symbolize layers and depth, which can be a great metaphor for many things in life. Do you have a favorite set or style of Matryoshka dolls?</message>\n",
      "<message role='user'>What is the most popular nesting doll?</message>\n",
      "<message role='assistant'>The most popular nesting doll is the traditional Russian Matryoshka doll, often featuring a set of wooden dolls painted to resemble a peasant woman in traditional dress. These dolls are iconic and widely recognized around the world. Each doll nests inside a larger one, usually with a series of progressively smaller dolls inside. The classic design often includes bright colors and intricate patterns, making them both a cultural symbol and a beautiful collectible. Are you interested in any particular style or theme of nesting dolls?</message>\n",
      "<message role='user'>In history, what is the most significant nesting doll?</message>\n",
      "<message role='assistant'>Historically, the most significant nesting doll is the original Russian Matryoshka doll, created in the late 19th century. The first set was made in 1890 by Vasily Zvyozdochkin, a craftsman, and painted by Sergey Malyutin, a folk artist. This original set featured a peasant woman with a series of smaller dolls inside, symbolizing motherhood, fertility, and the unity of family. It became a cultural icon representing Russian folk art and craftsmanship, inspiring countless variations worldwide. This doll set holds great historical and cultural significance as the origin of the nesting doll tradition. \n",
      "\n",
      "As someone who loves nested Matryoshka dolls, do you have a favorite historical or artistic variation?</message>\n",
      "<message role='user'>What is the most expensive nesting doll?</message>\n",
      "<message role='assistant'>The most expensive nesting doll ever sold is a Fabergé-style Matryoshka doll created by the renowned House of Fabergé, famous for their exquisite jeweled eggs and luxury items. These dolls are often adorned with precious metals, gemstones, and intricate craftsmanship, making them highly valuable collector's items. One such Fabergé nesting doll set reportedly sold for hundreds of thousands of dollars due to its rarity and artistic detail.\n",
      "\n",
      "Traditional wooden Matryoshka dolls are usually much more affordable, but when combined with luxury materials and the Fabergé name, their value skyrockets.\n",
      "\n",
      "Are you interested in luxury or artistic nesting dolls, or do you prefer the traditional folk art style?</message>\n",
      "</vector_memory>\n",
      "</memory>\n",
      "What is the most interesting nesting doll?\n",
      "==> assistant: Hi Jerry! One of the most interesting nesting dolls historically is the very first Russian Matryoshka doll created in 1890 by Vasily Zvyozdochkin (carver) and Sergey Malyutin (painter). This original set featured a peasant woman with a series of smaller dolls inside, symbolizing motherhood, fertility, and family unity. It’s fascinating because it not only launched the entire tradition of nesting dolls but also captured the essence of Russian folk art and cultural values.\n",
      "\n",
      "Beyond that, there are many unique and artistically innovative nesting dolls—like political-themed sets, steampunk designs, or dolls made from unusual materials—that tell stories or reflect social commentary, making them especially intriguing to collectors and enthusiasts.\n",
      "\n",
      "Do you have a particular style or theme of nesting doll that you find most captivating?\n"
     ]
    }
   ],
   "source": [
    "chat_history = await memory.aget()\n",
    "for chat in chat_history:\n",
    "    print(f\"==> {chat}\")"
   ]
  },
  {
   "cell_type": "markdown",
   "metadata": {},
   "source": [
    "Great, we can see that the current FIFO queue is only 2-3 messages (expected since we set the chat history token ratio to 0.02).\n",
    "\n",
    "Now, let's inspect the long-term memory blocks that are inserted into the latest user message.\n"
   ]
  },
  {
   "cell_type": "code",
   "execution_count": 12,
   "metadata": {},
   "outputs": [
    {
     "name": "stdout",
     "output_type": "stream",
     "text": [
      "<memory>\n",
      "<core_info>\n",
      "My name is ASDRP Agent.  I live in Fremont, CA and I love to talk about nested Matryoshka dolls.\n",
      "</core_info>\n",
      "<extracted_info>\n",
      "<fact>User's name is Jerry.</fact>\n",
      "<fact>User is interested in nested Matryoshka dolls.</fact>\n",
      "<fact>User bought a nesting doll last week.</fact>\n",
      "</extracted_info>\n",
      "<vector_memory>\n",
      "<message role='user'>I am thinking about the historical significance of nesting dolls, what is the most interesting nesting doll?</message>\n",
      "<message role='assistant'>That's a great area to explore, Jerry! One of the most interesting nesting dolls from a historical and cultural perspective is the original Russian Matryoshka doll created in 1890 by Vasily Zvyozdochkin and painted by Sergey Malyutin. This first set featured a peasant woman with a series of smaller dolls inside, symbolizing motherhood, fertility, and the unity of family. \n",
      "\n",
      "What makes it particularly fascinating is how it captured the essence of Russian folk art and became a symbol of family and continuity. It also inspired countless variations worldwide, making it a cultural icon beyond just a toy or decoration.\n",
      "\n",
      "Another interesting aspect is how nesting dolls have evolved over time to include political figures, famous personalities, and even modern themes, reflecting social and cultural changes.\n",
      "\n",
      "Do you have a favorite historical or artistic variation of nesting dolls that you find especially intriguing?</message>\n",
      "<message role='user'>What is the most unique nesting doll?</message>\n",
      "<message role='assistant'>Hi Jerry! When it comes to the most unique nesting doll, one standout example is the **\"Babushka Doll\" created by contemporary artists who push the boundaries of traditional Matryoshka design**. These dolls often incorporate unexpected materials, themes, or artistic styles that diverge from the classic folk art look.\n",
      "\n",
      "For instance, some artists create nesting dolls that tell a story or represent modern cultural icons, political figures, or even abstract art. There are also nesting dolls made from unconventional materials like porcelain, glass, or metal, rather than the traditional wood.\n",
      "\n",
      "One particularly unique set is the **\"Political Matryoshka\" series**, where each doll inside represents a different political leader or historical figure, often with satirical or thought-provoking designs. Another example is the **\"Steampunk Matryoshka\"**, which combines Victorian-era industrial aesthetics with the traditional nesting doll form.\n",
      "\n",
      "These unique dolls stand out because they blend tradition with innovation, making them fascinating collectibles for enthusiasts like you who appreciate both history and creativity.\n",
      "\n",
      "Would you be interested in exploring some of these unique or artistically innovative nesting dolls?</message>\n",
      "<message role='user'>Why are nesting dolls so popular?</message>\n",
      "\n",
      "<message role='user'>Hi! My name is Jerry</message>\n",
      "<message role='assistant'>Hi Jerry! Nice to meet you. I'm ASDRP Agent from Fremont, CA. I love talking about nested Matryoshka dolls. How about you? Do you have any interests or hobbies you'd like to share?</message>\n",
      "<message role='user'>What is your opinion on nested Matryoshka dolls?</message>\n",
      "<message role='assistant'>I think nested Matryoshka dolls are fascinating! They’re a wonderful example of craftsmanship and creativity, with each smaller doll fitting perfectly inside the larger one. They also symbolize layers and depth, which can be a great metaphor for many things in life. Do you have a favorite set or style of Matryoshka dolls?</message>\n",
      "<message role='user'>What is the most popular nesting doll?</message>\n",
      "<message role='assistant'>The most popular nesting doll is the traditional Russian Matryoshka doll, often featuring a set of wooden dolls painted to resemble a peasant woman in traditional dress. These dolls are iconic and widely recognized around the world. Each doll nests inside a larger one, usually with a series of progressively smaller dolls inside. The classic design often includes bright colors and intricate patterns, making them both a cultural symbol and a beautiful collectible. Are you interested in any particular style or theme of nesting dolls?</message>\n",
      "<message role='user'>In history, what is the most significant nesting doll?</message>\n",
      "<message role='assistant'>Historically, the most significant nesting doll is the original Russian Matryoshka doll, created in the late 19th century. The first set was made in 1890 by Vasily Zvyozdochkin, a craftsman, and painted by Sergey Malyutin, a folk artist. This original set featured a peasant woman with a series of smaller dolls inside, symbolizing motherhood, fertility, and the unity of family. It became a cultural icon representing Russian folk art and craftsmanship, inspiring countless variations worldwide. This doll set holds great historical and cultural significance as the origin of the nesting doll tradition. \n",
      "\n",
      "As someone who loves nested Matryoshka dolls, do you have a favorite historical or artistic variation?</message>\n",
      "<message role='user'>What is the most expensive nesting doll?</message>\n",
      "<message role='assistant'>The most expensive nesting doll ever sold is a Fabergé-style Matryoshka doll created by the renowned House of Fabergé, famous for their exquisite jeweled eggs and luxury items. These dolls are often adorned with precious metals, gemstones, and intricate craftsmanship, making them highly valuable collector's items. One such Fabergé nesting doll set reportedly sold for hundreds of thousands of dollars due to its rarity and artistic detail.\n",
      "\n",
      "Traditional wooden Matryoshka dolls are usually much more affordable, but when combined with luxury materials and the Fabergé name, their value skyrockets.\n",
      "\n",
      "Are you interested in luxury or artistic nesting dolls, or do you prefer the traditional folk art style?</message>\n",
      "</vector_memory>\n",
      "</memory>\n",
      "What is the most interesting nesting doll?\n"
     ]
    }
   ],
   "source": [
    "for block in chat_history[-2].blocks:\n",
    "    print(block.text)"
   ]
  },
  {
   "cell_type": "markdown",
   "metadata": {},
   "source": [
    "To use this memory outside an agent, and to highlight more of the usage, you might do something like the following:\n"
   ]
  },
  {
   "cell_type": "code",
   "execution_count": 13,
   "metadata": {},
   "outputs": [
    {
     "name": "stdout",
     "output_type": "stream",
     "text": [
      "You were asking about nesting dolls, specifically nested Matryoshka dolls.\n"
     ]
    }
   ],
   "source": [
    "new_user_msg = ChatMessage(\n",
    "    role=\"user\", content=\"What kind of doll was I asking about?\"\n",
    ")\n",
    "await memory.aput(new_user_msg)\n",
    "\n",
    "# Get the new chat history\n",
    "new_chat_history = await memory.aget()\n",
    "resp = await llm.achat(new_chat_history)\n",
    "await memory.aput(resp.message)\n",
    "print(resp.message.content)"
   ]
  }
 ],
 "metadata": {
  "kernelspec": {
   "display_name": ".venv",
   "language": "python",
   "name": "python3"
  },
  "language_info": {
   "codemirror_mode": {
    "name": "ipython",
    "version": 3
   },
   "file_extension": ".py",
   "mimetype": "text/x-python",
   "name": "python",
   "nbconvert_exporter": "python",
   "pygments_lexer": "ipython3",
   "version": "3.12.7"
  }
 },
 "nbformat": 4,
 "nbformat_minor": 2
}
